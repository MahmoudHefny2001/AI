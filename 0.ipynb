{
  "nbformat": 4,
  "nbformat_minor": 0,
  "metadata": {
    "colab": {
      "provenance": [],
      "authorship_tag": "ABX9TyMqhiJOnfj6TzBXPLcbBPsh",
      "include_colab_link": true
    },
    "kernelspec": {
      "name": "python3",
      "display_name": "Python 3"
    },
    "language_info": {
      "name": "python"
    }
  },
  "cells": [
    {
      "cell_type": "markdown",
      "metadata": {
        "id": "view-in-github",
        "colab_type": "text"
      },
      "source": [
        "<a href=\"https://colab.research.google.com/github/MahmoudHefny2001/AI/blob/main/0.ipynb\" target=\"_parent\"><img src=\"https://colab.research.google.com/assets/colab-badge.svg\" alt=\"Open In Colab\"/></a>"
      ]
    },
    {
      "cell_type": "code",
      "source": [
        "%tensorflow_version 2.x\n",
        "import tensorflow as tf\n",
        "# print(tf.version)"
      ],
      "metadata": {
        "colab": {
          "base_uri": "https://localhost:8080/"
        },
        "id": "Pt4lRLAMoxCi",
        "outputId": "5b1b7626-280f-456a-9311-912dedb17798"
      },
      "execution_count": 18,
      "outputs": [
        {
          "output_type": "stream",
          "name": "stdout",
          "text": [
            "Colab only includes TensorFlow 2.x; %tensorflow_version has no effect.\n"
          ]
        }
      ]
    },
    {
      "cell_type": "code",
      "metadata": {
        "id": "epGskXdjZHzu"
      },
      "source": [
        "# string = tf.Variable(\"this is a string\", tf.string) \n",
        "# number = tf.Variable(324, tf.int16)\n",
        "# floating = tf.Variable(3.567, tf.float64)\n",
        "\n",
        "# print(tf.rank(string))\n",
        "# print(tf.rank(number))\n",
        "# print(tf.rank(floating))\n",
        "# print(\"\")\n",
        "\n",
        "# rank1_tensor = tf.Variable([\"Test\"], tf.string) \n",
        "# rank2_tensor = tf.Variable([[\"test\", \"ok\"], [\"test\", \"yes\"]], tf.string)\n",
        "\n",
        "# print(f\"{tf.rank(rank1_tensor)}  {rank1_tensor.shape}\")\n",
        "# print(f\"{tf.rank(rank2_tensor)} {rank2_tensor.shape}\")\n",
        "# print(\"\")\n",
        "\n",
        "# rank3_tensor = tf.Variable([[\"test\", \"ok\", \"00\"], [\"test\", \"yes\", \"01\"], [\"test\", \"No\", \"10\"]], tf.string)\n",
        "# print(f\"{tf.rank(rank3_tensor)}  {rank3_tensor.shape}\")\n"
      ],
      "execution_count": 19,
      "outputs": []
    },
    {
      "cell_type": "code",
      "source": [
        "t = tf.zeros([5, 5, 5, 5])\n",
        "# print(t)\n",
        "\n",
        "t = tf.reshape(t, [125, -1])\n",
        "# print(t)\n"
      ],
      "metadata": {
        "id": "xK5lNRWzNLed"
      },
      "execution_count": 25,
      "outputs": []
    }
  ]
}